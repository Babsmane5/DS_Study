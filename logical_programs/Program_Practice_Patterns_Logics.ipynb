{
  "nbformat": 4,
  "nbformat_minor": 0,
  "metadata": {
    "colab": {
      "provenance": []
    },
    "kernelspec": {
      "name": "python3",
      "display_name": "Python 3"
    },
    "language_info": {
      "name": "python"
    }
  },
  "cells": [
    {
      "cell_type": "code",
      "execution_count": null,
      "metadata": {
        "colab": {
          "base_uri": "https://localhost:8080/"
        },
        "id": "6BZozrek8S1q",
        "outputId": "6fe53a0e-7530-497c-bf8b-71e08d04aca4"
      },
      "outputs": [
        {
          "output_type": "stream",
          "name": "stdout",
          "text": [
            "      \n",
            "     * \n",
            "    * * \n",
            "   * * * \n",
            "  * * * * \n",
            " * * * * * \n"
          ]
        }
      ],
      "source": [
        "val=6\n",
        "for i in range(val):\n",
        "  for k in range(val):\n",
        "    print(end=' ')\n",
        "  for j in range(0,i):\n",
        "    print('*', end=' ')\n",
        "  print()\n",
        "  val-=1"
      ]
    },
    {
      "cell_type": "code",
      "source": [
        "val=5\n",
        "for i in range(val):\n",
        "  for k in range(i):\n",
        "    print(end=' ')\n",
        "  for j in range(val):\n",
        "    print('*', end=' ')\n",
        "\n",
        "  print()\n",
        "  val-=1"
      ],
      "metadata": {
        "colab": {
          "base_uri": "https://localhost:8080/"
        },
        "id": "D7p4p76sCCz3",
        "outputId": "f8b06627-e15a-41a3-b70f-aec665f33d0d"
      },
      "execution_count": null,
      "outputs": [
        {
          "output_type": "stream",
          "name": "stdout",
          "text": [
            "* * * * * \n",
            " * * * * \n",
            "  * * * \n",
            "   * * \n",
            "    * \n"
          ]
        }
      ]
    },
    {
      "cell_type": "code",
      "source": [
        "# Sorting\n",
        "\n",
        "a = [10,12,3,1,33]\n",
        "\"\"\"\n",
        "for i in range(len(a)):\n",
        "  for j in range(len(a)):\n",
        "    if a[j]>a[i]:\n",
        "      temp=a[j]\n",
        "      a[j]=a[i]\n",
        "      a[i]=temp\n",
        "\"\"\"\n",
        "print(a)\n",
        "\n",
        "a.sort(reverse=True)\n",
        "print(a)"
      ],
      "metadata": {
        "colab": {
          "base_uri": "https://localhost:8080/"
        },
        "id": "1t6RI8qKDGaw",
        "outputId": "093bf71f-fc2e-4b85-ab36-51c1e7db4d39"
      },
      "execution_count": null,
      "outputs": [
        {
          "output_type": "stream",
          "name": "stdout",
          "text": [
            "[10, 12, 3, 1, 33]\n",
            "[33, 12, 10, 3, 1]\n"
          ]
        }
      ]
    }
  ]
}