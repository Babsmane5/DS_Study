{
 "cells": [
  {
   "cell_type": "code",
   "execution_count": 1,
   "id": "5673deab",
   "metadata": {},
   "outputs": [],
   "source": [
    "import mysql.connector\n",
    "from mysql.connector import Error"
   ]
  },
  {
   "cell_type": "code",
   "execution_count": 2,
   "id": "85a66e6b",
   "metadata": {},
   "outputs": [
    {
     "name": "stdout",
     "output_type": "stream",
     "text": [
      "Connection established successfully......\n"
     ]
    }
   ],
   "source": [
    "db_instance=mysql.connector.connect()\n",
    "try:\n",
    "    db_instance = mysql.connector.connect(\n",
    "\n",
    "        host='localhost',\n",
    "        user='root',\n",
    "        password='Admin'\n",
    "    )\n",
    "    print('Connection established successfully......')\n",
    "except Eroor as err:\n",
    "    print(f'Error is:{err}')"
   ]
  },
  {
   "cell_type": "code",
   "execution_count": 3,
   "id": "0d5c0f6b",
   "metadata": {},
   "outputs": [],
   "source": [
    "def connect_to_db():\n",
    "    db_instance=mysql.connector.connect()\n",
    "    try:\n",
    "        db_instance = mysql.connector.connect(\n",
    "\n",
    "            host='localhost',\n",
    "            user='root',\n",
    "            password='Admin',\n",
    "            database='python_mysql'\n",
    "        )\n",
    "        print('Connection established to python_mysql database successfully......')\n",
    "    except Eroor as err:\n",
    "        print(f'Error is:{err}')\n",
    "    return db_instance\n"
   ]
  },
  {
   "cell_type": "code",
   "execution_count": 19,
   "id": "0095999f",
   "metadata": {},
   "outputs": [
    {
     "name": "stdout",
     "output_type": "stream",
     "text": [
      "Database created successfully......\n"
     ]
    }
   ],
   "source": [
    "cursor=db_instance.cursor()\n",
    "try:\n",
    "    cursor.execute(\"create database python_mysql\")\n",
    "    print('Database created successfully......')\n",
    "except Error as err:\n",
    "    print(f'Error is:{err}')"
   ]
  },
  {
   "cell_type": "code",
   "execution_count": 4,
   "id": "57a25a91",
   "metadata": {},
   "outputs": [
    {
     "name": "stdout",
     "output_type": "stream",
     "text": [
      "Connection established to python_mysql database successfully......\n"
     ]
    }
   ],
   "source": [
    "db=connect_to_db()"
   ]
  },
  {
   "cell_type": "code",
   "execution_count": 22,
   "id": "d502d547",
   "metadata": {},
   "outputs": [
    {
     "name": "stdout",
     "output_type": "stream",
     "text": [
      "Table created successfully...\n"
     ]
    }
   ],
   "source": [
    "cursor=db.cursor()\n",
    "try:\n",
    "    cursor.execute(\"create table student(id int auto_increment primary key,roll int ,name varchar(100))\")\n",
    "    print('Table created successfully...')\n",
    "except Error as err:\n",
    "    print(f'Error is:{err}')"
   ]
  },
  {
   "cell_type": "code",
   "execution_count": 27,
   "id": "1c1e23d6",
   "metadata": {},
   "outputs": [
    {
     "name": "stdout",
     "output_type": "stream",
     "text": [
      "1 row inserted successfully...\n"
     ]
    }
   ],
   "source": [
    "cursor=db.cursor()\n",
    "try:\n",
    "    sql=\"insert into student(roll,name) value(%s,%s)\"\n",
    "    val=(10,'Babasaheb')\n",
    "    cursor.execute(sql,val)\n",
    "    db.commit()\n",
    "    print(f'{cursor.rowcount} row inserted successfully...')\n",
    "except Error as err:\n",
    "    print(f'Error is:{err}')"
   ]
  },
  {
   "cell_type": "code",
   "execution_count": 30,
   "id": "752fe05f",
   "metadata": {},
   "outputs": [
    {
     "name": "stdout",
     "output_type": "stream",
     "text": [
      "(2, 11, 'Sam')\n",
      "(3, 12, 'Akki')\n",
      "done\n"
     ]
    }
   ],
   "source": [
    "cursor=db.cursor()\n",
    "try:\n",
    "    cursor.execute('select * from student;')\n",
    "    result = cursor.fetchall()\n",
    "    for i in result:\n",
    "        print(i)\n",
    "    print('done')\n",
    "except Error as err:\n",
    "    print(f'Error is:{err}')"
   ]
  },
  {
   "cell_type": "code",
   "execution_count": 13,
   "id": "08625e50",
   "metadata": {},
   "outputs": [
    {
     "name": "stdout",
     "output_type": "stream",
     "text": [
      "1 records affected\n"
     ]
    }
   ],
   "source": [
    "cursor=db.cursor()\n",
    "try:\n",
    "    sql='update student set name=%s where roll=%s'\n",
    "    val=('babs',10)\n",
    "    cursor.execute(sql,val)\n",
    "    print(cursor.rowcount, \"records affected\")\n",
    "except Error as err:\n",
    "    print(f'Error is:{err}')"
   ]
  },
  {
   "cell_type": "code",
   "execution_count": 29,
   "id": "ab19d52a",
   "metadata": {},
   "outputs": [
    {
     "name": "stdout",
     "output_type": "stream",
     "text": [
      "1 records deleted\n"
     ]
    }
   ],
   "source": [
    "cursor=db.cursor()\n",
    "try:\n",
    "    sql='delete from student where roll=%s'\n",
    "    val=(10,)\n",
    "    cursor.execute(sql,val)\n",
    "    db.commit()\n",
    "    print(cursor.rowcount, \"records deleted\")\n",
    "except Error as err:\n",
    "    print(f'Error is:{err}')"
   ]
  }
 ],
 "metadata": {
  "kernelspec": {
   "display_name": "Python 3 (ipykernel)",
   "language": "python",
   "name": "python3"
  },
  "language_info": {
   "codemirror_mode": {
    "name": "ipython",
    "version": 3
   },
   "file_extension": ".py",
   "mimetype": "text/x-python",
   "name": "python",
   "nbconvert_exporter": "python",
   "pygments_lexer": "ipython3",
   "version": "3.10.5"
  }
 },
 "nbformat": 4,
 "nbformat_minor": 5
}
